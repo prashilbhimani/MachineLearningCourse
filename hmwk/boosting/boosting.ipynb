{
 "cells": [
  {
   "cell_type": "markdown",
   "metadata": {},
   "source": [
    "# Boosting Homework \n",
    "***\n",
    "**Name: Prashil Bhimani**\n",
    "***\n",
    "\n",
    "This assignment is due on Moodle by **5pm on Friday April 13th**. Submit only this Jupyter notebook to Moodle.  Do not compress it using tar, rar, zip, etc. Your solutions to analysis questions should be done in Markdown directly below the associated question.  Remember that you are encouraged to discuss the problems with your instructors and classmates, but **you must write all code and solutions on your own**.  For a refresher on the course **Collaboration Policy** click [here](https://github.com/chrisketelsen/CSCI5622-Machine-Learning/blob/master/resources/syllabus.md#collaboration-policy)\n",
    "\n"
   ]
  },
  {
   "cell_type": "markdown",
   "metadata": {},
   "source": [
    "## Overview \n",
    "***\n",
    "\n",
    "\n",
    "\n",
    "In this homework you'll implement the AdaBoost classification framework to do handwritten digit recognition. Your implementation should be based on the description of AdaBoost given in the lecture slides.\n",
    "\n",
    "<br>\n",
    "\n",
    "![digits](mnist.png \"mnist data\")\n",
    "\n",
    "\n",
    "<br>\n",
    "\n",
    "Here are the rules: \n",
    "\n",
    "- Do **NOT** use sklearn's implementation of Adaboost.  You may however use sklearn's implementation of decisions trees. \n",
    "- Do **NOT** load or use any Python packages that are not available in Anaconda 3.6. \n",
    "- Some problems with code may be autograded.  If we provide a function or class API **do not** change it.\n",
    "- Do not change the location of the data or data directory.  Use only relative paths to access the data. "
   ]
  },
  {
   "cell_type": "code",
   "execution_count": 1,
   "metadata": {
    "ExecuteTime": {
     "end_time": "2018-04-02T09:58:16.624747Z",
     "start_time": "2018-04-02T09:58:15.916585Z"
    },
    "collapsed": true
   },
   "outputs": [],
   "source": [
    "import numpy as np\n",
    "import math\n",
    "from sklearn.tree import DecisionTreeClassifier\n",
    "from sklearn.base import clone \n",
    "import matplotlib.pylab as plt\n",
    "%matplotlib inline "
   ]
  },
  {
   "cell_type": "markdown",
   "metadata": {},
   "source": [
    "### [5 points] Problem 1\n",
    "***\n",
    "\n",
    "Since we'll be working with binary classifiers, we'll look at the subset of the MNIST data pertaining to handwritten three's and eights. Note that we'll also be using a lower-res version of the MNIST data used in the KNN homework. The class below will load, parse, and store the subset of the. Load the data and then report: \n",
    "\n",
    "- The number of examples in the training set \n",
    "- The number of examples in the validation set \n",
    "- The number of pixels in each image. "
   ]
  },
  {
   "cell_type": "code",
   "execution_count": 2,
   "metadata": {
    "ExecuteTime": {
     "end_time": "2018-04-02T09:58:18.840016Z",
     "start_time": "2018-04-02T09:58:18.805889Z"
    },
    "collapsed": true
   },
   "outputs": [],
   "source": [
    "class ThreesAndEights:\n",
    "    \"\"\"\n",
    "    Class to store MNIST data\n",
    "    \"\"\"\n",
    "\n",
    "    def __init__(self, location):\n",
    "\n",
    "        import pickle, gzip\n",
    "\n",
    "        # Load the dataset\n",
    "        f = gzip.open(location, 'rb')\n",
    "\n",
    "        # Split the data set \n",
    "        X_train, y_train, X_valid, y_valid = pickle.load(f)\n",
    "\n",
    "        # Extract only 3's and 8's for training set \n",
    "        self.X_train = X_train[np.logical_or( y_train==3, y_train == 8), :]\n",
    "        self.y_train = y_train[np.logical_or( y_train==3, y_train == 8)]\n",
    "        self.y_train = np.array([1 if y == 8 else -1 for y in self.y_train])\n",
    "        \n",
    "        # Shuffle the training data \n",
    "        shuff = np.arange(self.X_train.shape[0])\n",
    "        np.random.shuffle(shuff)\n",
    "        self.X_train = self.X_train[shuff,:]\n",
    "        self.y_train = self.y_train[shuff]\n",
    "\n",
    "        # Extract only 3's and 8's for validation set \n",
    "        self.X_valid = X_valid[np.logical_or( y_valid==3, y_valid == 8), :]\n",
    "        self.y_valid = y_valid[np.logical_or( y_valid==3, y_valid == 8)]\n",
    "        self.y_valid = np.array([1 if y == 8 else -1 for y in self.y_valid])\n",
    "        \n",
    "        f.close()"
   ]
  },
  {
   "cell_type": "code",
   "execution_count": 3,
   "metadata": {
    "ExecuteTime": {
     "end_time": "2018-04-02T09:58:19.740678Z",
     "start_time": "2018-04-02T09:58:19.609721Z"
    }
   },
   "outputs": [
    {
     "name": "stdout",
     "output_type": "stream",
     "text": [
      "(2000, 441)\n",
      "(500, 441)\n"
     ]
    }
   ],
   "source": [
    "data = ThreesAndEights(\"../data/mnist21x21_3789.pklz\")\n",
    "print(data.X_train.shape)\n",
    "print(data.X_valid.shape)\n"
   ]
  },
  {
   "cell_type": "markdown",
   "metadata": {},
   "source": [
    "#### Answers :\n",
    "\n",
    "1. Training set - 2000\n",
    "2. Validation set - 500\n",
    "3. Number of pixels - 441"
   ]
  },
  {
   "cell_type": "markdown",
   "metadata": {},
   "source": [
    "### [20 points] Problem 2: Implementing AdaBoost  \n",
    "***\n",
    "\n",
    "We've given you a skeleton of the class `AdaBoost` below which will train a classifier based on boosted shallow decision trees as implemented by sklearn. Take a look at the class skeleton first so that you understand the underlying organization and data structures that we'll be using.  "
   ]
  },
  {
   "cell_type": "code",
   "execution_count": 4,
   "metadata": {
    "ExecuteTime": {
     "end_time": "2018-04-02T09:58:23.101470Z",
     "start_time": "2018-04-02T09:58:23.016833Z"
    }
   },
   "outputs": [],
   "source": [
    "class AdaBoost:\n",
    "    def __init__(self, n_learners=20, base=DecisionTreeClassifier(max_depth=1), random_state=1234):\n",
    "        \"\"\"\n",
    "        Create a new adaboost classifier.\n",
    "        \n",
    "        Args:\n",
    "            N (int, optional): Number of weak learners in classifier.\n",
    "            base (BaseEstimator, optional): Your general weak learner \n",
    "            random_state (int, optional): set random generator.  needed for unit testing. \n",
    "\n",
    "        Attributes:\n",
    "            base (estimator): Your general weak learner \n",
    "            n_learners (int): Number of weak learners in classifier.\n",
    "            alpha (ndarray): Coefficients on weak learners. \n",
    "            learners (list): List of weak learner instances. \n",
    "        \"\"\"\n",
    "        \n",
    "        np.random.seed(random_state)\n",
    "        \n",
    "        self.n_learners = n_learners \n",
    "        self.base = base\n",
    "        self.alpha = np.zeros(self.n_learners)\n",
    "        self.learners = []\n",
    "        \n",
    "    def fit(self, X_train, y_train):\n",
    "        \"\"\"\n",
    "        Train AdaBoost classifier on data. Sets alphas and learners. \n",
    "        \n",
    "        Args:\n",
    "            X_train (ndarray): [n_samples x n_features] ndarray of training data   \n",
    "            y_train (ndarray): [n_samples] ndarray of data \n",
    "        \"\"\"\n",
    "        \n",
    "        # TODO \n",
    "\n",
    "        # Note: You can create and train a new instantiation \n",
    "        # of your sklearn decision tree as follows \n",
    "        \n",
    "        w = np.ones(len(y_train))\n",
    "        w=w/len(w)\n",
    "        alpha=np.zeros(self.n_learners)\n",
    "        for i in range(self.n_learners):\n",
    "            self.learners.append(clone(self.base))\n",
    "            self.learners[i].fit(X_train, y_train, sample_weight=w)\n",
    "            predicted_label=self.learners[i].predict(X_train)\n",
    "            error=0\n",
    "            for j in range(len(y_train)):\n",
    "                if predicted_label[j]!=y_train[j]:\n",
    "                    error=error+w[j]\n",
    "            error=error/np.sum(w)\n",
    "            if error==0:\n",
    "                alpha[i]=1\n",
    "            else:\n",
    "                alpha[i]=math.log((1-error)/error)/2\n",
    "            for k in range(len(y_train)):\n",
    "                w[k]=w[k]*math.exp(-1*alpha[i]*y_train[k]*predicted_label[k])\n",
    "        self.alpha=alpha\n",
    "            \n",
    "    def predict(self, X):\n",
    "        \"\"\"\n",
    "        Adaboost prediction for new data X.\n",
    "        \n",
    "        Args:\n",
    "            X (ndarray): [n_samples x n_features] ndarray of data \n",
    "            \n",
    "        Returns: \n",
    "            yhat (ndarray): [n_samples] ndarray of predicted labels {-1,1}\n",
    "        \"\"\"\n",
    "\n",
    "        # TODO \n",
    "        yhat=[]\n",
    "        for j in X:\n",
    "            voting_label=0\n",
    "            for i in range(self.n_learners):\n",
    "                predicted_label=self.learners[i].predict([j])\n",
    "                voting_label=voting_label+self.alpha[i]*predicted_label\n",
    "            if voting_label>=0:\n",
    "                yhat.append(1)\n",
    "            else:\n",
    "                yhat.append(-1)\n",
    "        return np.asarray(yhat)\n",
    "        \n",
    "        \n",
    "    \n",
    "    def score(self, X, y):\n",
    "        \"\"\"\n",
    "        Computes prediction accuracy of classifier.  \n",
    "        \n",
    "        Args:\n",
    "            X (ndarray): [n_samples x n_features] ndarray of data \n",
    "            y (ndarray): [n_samples] ndarray of true labels  \n",
    "            \n",
    "        Returns: \n",
    "            Prediction accuracy (between 0.0 and 1.0).\n",
    "        \"\"\"\n",
    "\n",
    "        \n",
    "        # TODO \n",
    "        predicted_label=self.predict(X)\n",
    "        accuracy=0\n",
    "        for i in range(len(predicted_label)):\n",
    "            if predicted_label[i]==y[i]:\n",
    "                accuracy=accuracy+1\n",
    "        return accuracy/len(y)\n",
    "        \n",
    "    \n",
    "    def staged_score(self, X, y):\n",
    "        \"\"\"\n",
    "        Computes the ensemble score after each iteration of boosting \n",
    "        for monitoring purposes, such as to determine the score on a \n",
    "        test set after each boost.\n",
    "        \n",
    "        Args:\n",
    "            X (ndarray): [n_samples x n_features] ndarray of data \n",
    "            y (ndarray): [n_samples] ndarray of true labels  \n",
    "            \n",
    "        Returns: \n",
    "            scores (ndarary): [n_learners] ndarray of scores \n",
    "        \"\"\"\n",
    "        \n",
    "\n",
    "        # TODO \n",
    "        accuracy=np.zeros(self.n_learners)\n",
    "        for j in zip(X,y):\n",
    "            yhat=[]\n",
    "            voting_label=[]\n",
    "            for i in range(self.n_learners):\n",
    "                predicted_label=self.learners[i].predict([j[0]])\n",
    "                if i==0:\n",
    "                    voting_label.append(self.alpha[i]*predicted_label)\n",
    "                else:\n",
    "                    voting_label.append(voting_label[i-1]+self.alpha[i]*predicted_label)\n",
    "            \n",
    "                if voting_label[i]>=0:\n",
    "                    yhat.append(1)\n",
    "                else:\n",
    "                    yhat.append(-1)\n",
    "                if yhat[i]==j[1]:\n",
    "                    accuracy[i]=accuracy[i]+1\n",
    "        \n",
    "        accuracy=accuracy/len(y)\n",
    "        return  accuracy\n",
    "    \n",
    "    def staged_margin(self, x, y):\n",
    "        \"\"\"\n",
    "        Computes the staged margin after each iteration of boosting \n",
    "        for a single training example x and true label y\n",
    "        \n",
    "        Args:\n",
    "            x (ndarray): [n_features] ndarray of data \n",
    "            y (integer): an integer {-1,1} representing the true label of x \n",
    "            \n",
    "        Returns: \n",
    "            margins (ndarary): [n_learners] ndarray of margins \n",
    "        \"\"\"\n",
    "        \n",
    "        # TODO \n",
    "        margin=[]\n",
    "        normalized_alpha=self.alpha/sum(self.alpha)\n",
    "        for i in range(self.n_learners):\n",
    "            if i==0:\n",
    "                margin.append(normalized_alpha[i]*y*self.learners[i].predict([x])[0])\n",
    "            else:\n",
    "                margin.append(margin[i-1]+normalized_alpha[i]*y*self.learners[i].predict([x])[0])\n",
    "        return margin\n",
    "        \n",
    "        \n",
    "        "
   ]
  },
  {
   "cell_type": "markdown",
   "metadata": {},
   "source": [
    "Recall that the model we attempt to learn in AdaBoost is given by \n",
    "\n",
    "$$\n",
    "H({\\bf x}) = \\textrm{sign}\\left[\\displaystyle\\sum_{k=1}^K\\alpha_k h_k({\\bf x}) \\right]\n",
    "$$\n",
    "\n",
    "where $h_k({\\bf x})$ is the $k^\\textrm{th}$ weak learner and $\\alpha_k$ is it's associated ensemble coefficient.  \n",
    "\n",
    "**Part A**: Implement the `fit` method to learn the sequence of weak learners $\\left\\{h_k({\\bf x})\\right\\}_{k=1}^K$ and corresponding coefficients $\\left\\{ \\alpha_k\\right\\}_{k=1}^K$. Note that you may use sklearn's implementation of DecisionTreeClassifier as your weak learner which allows you to pass as an optional parameter the weights associated with each training example.  An example of instantiating and training a single learner is given in the comments of the `fit` method.  \n",
    "\n",
    "When you think you're done, run the following unit tests which corresponds to the AdaBoost example given in the lecture slides. \n"
   ]
  },
  {
   "cell_type": "code",
   "execution_count": 5,
   "metadata": {
    "ExecuteTime": {
     "end_time": "2018-04-02T09:58:25.957948Z",
     "start_time": "2018-04-02T09:58:25.948471Z"
    }
   },
   "outputs": [
    {
     "name": "stderr",
     "output_type": "stream",
     "text": [
      "test_alphas (__main__.TestBoost) ... ok\n",
      "\n",
      "----------------------------------------------------------------------\n",
      "Ran 1 test in 0.007s\n",
      "\n",
      "OK\n"
     ]
    }
   ],
   "source": [
    "%run -i tests.py \"part A\""
   ]
  },
  {
   "cell_type": "markdown",
   "metadata": {},
   "source": [
    "**Part B**: After your `fit` method is working properly, implement the `predict` method to make predictions for unseen examples stored in a data matrix ${\\bf X}$.  \n",
    "\n",
    "**Note**: Remember that AdaBoost assumes that your predictions are of the form $y \\in \\{-1, 1\\}$. \n",
    "\n",
    "When you think you're done, run the following unit tests which corresponds to the AdaBoost example given in the lecture slides. "
   ]
  },
  {
   "cell_type": "code",
   "execution_count": 6,
   "metadata": {
    "ExecuteTime": {
     "end_time": "2018-04-02T09:58:29.697855Z",
     "start_time": "2018-04-02T09:58:29.689876Z"
    }
   },
   "outputs": [
    {
     "name": "stderr",
     "output_type": "stream",
     "text": [
      "test_prediction (__main__.TestBoost) ... ok\n",
      "\n",
      "----------------------------------------------------------------------\n",
      "Ran 1 test in 0.011s\n",
      "\n",
      "OK\n"
     ]
    }
   ],
   "source": [
    "%run -i tests.py \"part B\""
   ]
  },
  {
   "cell_type": "markdown",
   "metadata": {},
   "source": [
    "**Part C**: Next, implement the `score` method which takes in a matrix of examples ${\\bf X}$ and their associated true labels ${\\bf y}$, makes predictions, and returns the classification accuracy.   \n",
    "\n",
    "When you think you're done, run the following unit tests. "
   ]
  },
  {
   "cell_type": "code",
   "execution_count": 7,
   "metadata": {
    "ExecuteTime": {
     "end_time": "2018-04-02T09:58:32.327702Z",
     "start_time": "2018-04-02T09:58:32.320424Z"
    }
   },
   "outputs": [
    {
     "name": "stderr",
     "output_type": "stream",
     "text": [
      "test_score (__main__.TestBoost) ... ok\n",
      "\n",
      "----------------------------------------------------------------------\n",
      "Ran 1 test in 0.007s\n",
      "\n",
      "OK\n"
     ]
    }
   ],
   "source": [
    "%run -i tests.py \"part C\""
   ]
  },
  {
   "cell_type": "markdown",
   "metadata": {},
   "source": [
    "**Part D**: Finally, implement the `staged_score` method to return an array of prediction accuracies after each iteration of the AdaBoost algorithm.  That is, the staged score array ${\\bf s}$ is defined such that ${\\bf s}_\\ell$ is the prediction accuracy using only the first $\\ell$ weak learners.  This function is primarily used as a diagnostic tool for analyzing the performance of your classifier during the training process.  \n",
    "\n",
    "**Note**: This method can be implemented in a very efficient or very **in**efficient matter.  Be sure to think about this a bit before diving in. \n",
    "\n",
    "\n",
    "When you think you're done, run the following unit tests. "
   ]
  },
  {
   "cell_type": "code",
   "execution_count": 8,
   "metadata": {
    "ExecuteTime": {
     "end_time": "2018-04-02T09:58:36.952096Z",
     "start_time": "2018-04-02T09:58:36.944919Z"
    }
   },
   "outputs": [
    {
     "name": "stderr",
     "output_type": "stream",
     "text": [
      "test_staged_score (__main__.TestBoost) ... ok\n",
      "\n",
      "----------------------------------------------------------------------\n",
      "Ran 1 test in 0.009s\n",
      "\n",
      "OK\n"
     ]
    }
   ],
   "source": [
    "%run -i tests.py \"part D\""
   ]
  },
  {
   "cell_type": "markdown",
   "metadata": {},
   "source": [
    "### [10 points] Problem 3: AdaBoost for Handwritten Digit Recognition \n",
    "***\n",
    "\n",
    "Use your AdaBoost code with Sklearn's DecisionTreeClassifier as the base learner to distinguish $3$'s from $8$'s. \n",
    "Run $n=500$ boosting iterations with trees of depths 1, 2, and 3 (go deeper if you like) as the weak learner. For each weak learner, plot the training and validation error per boosting iteration (on the same set of axes). Compare and contrast the different weak learners. Which works the best? Do you see signs of overfitting? Do any of classifiers achieve nearly 100% accuracy on the training data? What happens to the accuracy on the validation data on further iterations?"
   ]
  },
  {
   "cell_type": "code",
   "execution_count": 9,
   "metadata": {},
   "outputs": [],
   "source": [
    "data = ThreesAndEights(\"../data/mnist21x21_3789.pklz\")\n",
    "classifier1=AdaBoost(n_learners=500, base=DecisionTreeClassifier(max_depth=1), random_state=1234)\n",
    "classifier1.fit(data.X_train,data.y_train)\n",
    "train_accuracy1=classifier1.staged_score(data.X_train,data.y_train)\n",
    "valid_accuracy1=classifier1.staged_score(data.X_valid,data.y_valid)"
   ]
  },
  {
   "cell_type": "code",
   "execution_count": 10,
   "metadata": {},
   "outputs": [
    {
     "data": {
      "image/png": "[encoded data removed]",
      "text/plain": [
       "<matplotlib.figure.Figure at 0x18fb9b9fcc0>"
      ]
     },
     "metadata": {},
     "output_type": "display_data"
    }
   ],
   "source": [
    "plt.plot(np.arange(0, 500),1-train_accuracy1)\n",
    "plt.plot(np.arange(0,500),1-valid_accuracy1)\n",
    "plt.show()"
   ]
  },
  {
   "cell_type": "code",
   "execution_count": 11,
   "metadata": {},
   "outputs": [
    {
     "name": "stdout",
     "output_type": "stream",
     "text": [
      "Training error becomes 0 at iteration number  241\n",
      "Test accuracy after 500 iterations is  0.96\n"
     ]
    }
   ],
   "source": [
    "print(\"Training error becomes 0 at iteration number \",np.where(train_accuracy1==1)[0][0])\n",
    "print(\"Test accuracy after 500 iterations is \",valid_accuracy1[-1])"
   ]
  },
  {
   "cell_type": "code",
   "execution_count": 12,
   "metadata": {},
   "outputs": [],
   "source": [
    "data = ThreesAndEights(\"../data/mnist21x21_3789.pklz\")\n",
    "classifier2=AdaBoost(n_learners=500, base=DecisionTreeClassifier(max_depth=2), random_state=1234)\n",
    "classifier2.fit(data.X_train,data.y_train)\n",
    "train_accuracy2=classifier2.staged_score(data.X_train,data.y_train)\n",
    "valid_accuracy2=classifier2.staged_score(data.X_valid,data.y_valid)"
   ]
  },
  {
   "cell_type": "code",
   "execution_count": 13,
   "metadata": {},
   "outputs": [
    {
     "data": {
      "image/png": "[encoded data removed]",
      "text/plain": [
       "<matplotlib.figure.Figure at 0x18fb9b9feb8>"
      ]
     },
     "metadata": {},
     "output_type": "display_data"
    }
   ],
   "source": [
    "plt.plot(np.arange(0, 500),1-train_accuracy2)\n",
    "plt.plot(np.arange(0,500),1-valid_accuracy2)\n",
    "plt.show()"
   ]
  },
  {
   "cell_type": "code",
   "execution_count": 14,
   "metadata": {},
   "outputs": [
    {
     "name": "stdout",
     "output_type": "stream",
     "text": [
      "Training error becomes 0 at iteration number  23\n",
      "Test accuracy after 500 iterations is  0.98\n"
     ]
    }
   ],
   "source": [
    "print(\"Training error becomes 0 at iteration number \",np.where(train_accuracy2==1)[0][0])\n",
    "print(\"Test accuracy after 500 iterations is \",valid_accuracy2[-1])"
   ]
  },
  {
   "cell_type": "code",
   "execution_count": 15,
   "metadata": {
    "collapsed": true
   },
   "outputs": [],
   "source": [
    "data = ThreesAndEights(\"../data/mnist21x21_3789.pklz\")\n",
    "classifier3=AdaBoost(n_learners=500, base=DecisionTreeClassifier(max_depth=3), random_state=1234)\n",
    "classifier3.fit(data.X_train,data.y_train)\n",
    "train_accuracy3=classifier3.staged_score(data.X_train,data.y_train)\n",
    "valid_accuracy3=classifier3.staged_score(data.X_valid,data.y_valid)"
   ]
  },
  {
   "cell_type": "code",
   "execution_count": 16,
   "metadata": {},
   "outputs": [
    {
     "data": {
      "image/png": "[encoded data removed]",
      "text/plain": [
       "<matplotlib.figure.Figure at 0x18fb9b9fb00>"
      ]
     },
     "metadata": {},
     "output_type": "display_data"
    }
   ],
   "source": [
    "plt.plot(np.arange(0, 500),1-train_accuracy3)\n",
    "plt.plot(np.arange(0,500),1-valid_accuracy3)\n",
    "plt.show()"
   ]
  },
  {
   "cell_type": "code",
   "execution_count": 17,
   "metadata": {},
   "outputs": [
    {
     "name": "stdout",
     "output_type": "stream",
     "text": [
      "Training error becomes 0 at iteration number  12\n",
      "Test accuracy after 500 iterations is  0.984\n"
     ]
    }
   ],
   "source": [
    "print(\"Training error becomes 0 at iteration number \",np.where(train_accuracy3==1)[0][0])\n",
    "print(\"Test accuracy after 500 iterations is \",valid_accuracy3[-1])"
   ]
  },
  {
   "cell_type": "code",
   "execution_count": 18,
   "metadata": {
    "collapsed": true
   },
   "outputs": [],
   "source": [
    "data = ThreesAndEights(\"../data/mnist21x21_3789.pklz\")\n",
    "classifier4=AdaBoost(n_learners=500, base=DecisionTreeClassifier(max_depth=4), random_state=1234)\n",
    "classifier4.fit(data.X_train,data.y_train)\n",
    "train_accuracy4=classifier4.staged_score(data.X_train,data.y_train)\n",
    "valid_accuracy4=classifier4.staged_score(data.X_valid,data.y_valid)"
   ]
  },
  {
   "cell_type": "code",
   "execution_count": 19,
   "metadata": {},
   "outputs": [
    {
     "data": {
      "image/png": "[encoded data removed]",
      "text/plain": [
       "<matplotlib.figure.Figure at 0x18fb9ec8fd0>"
      ]
     },
     "metadata": {},
     "output_type": "display_data"
    }
   ],
   "source": [
    "plt.plot(np.arange(0, 500),1-train_accuracy4)\n",
    "plt.plot(np.arange(0,500),1-valid_accuracy4)\n",
    "plt.show()"
   ]
  },
  {
   "cell_type": "code",
   "execution_count": 20,
   "metadata": {},
   "outputs": [
    {
     "name": "stdout",
     "output_type": "stream",
     "text": [
      "Training error becomes 0 at iteration number  7\n",
      "Test accuracy after 500 iterations is  0.976\n"
     ]
    }
   ],
   "source": [
    "print(\"Training error becomes 0 at iteration number \",np.where(train_accuracy4==1)[0][0])\n",
    "print(\"Test accuracy after 500 iterations is \",valid_accuracy4[-1])\n"
   ]
  },
  {
   "cell_type": "code",
   "execution_count": 21,
   "metadata": {
    "collapsed": true
   },
   "outputs": [],
   "source": [
    "data = ThreesAndEights(\"../data/mnist21x21_3789.pklz\")\n",
    "classifier12=AdaBoost(n_learners=500, base=DecisionTreeClassifier(max_depth=12), random_state=1234)\n",
    "classifier12.fit(data.X_train,data.y_train)\n",
    "train_accuracy12=classifier12.staged_score(data.X_train,data.y_train)\n",
    "valid_accuracy12=classifier12.staged_score(data.X_valid,data.y_valid)"
   ]
  },
  {
   "cell_type": "code",
   "execution_count": 22,
   "metadata": {},
   "outputs": [
    {
     "data": {
      "image/png": "[encoded data removed]",
      "text/plain": [
       "<matplotlib.figure.Figure at 0x18fb9ec8ac8>"
      ]
     },
     "metadata": {},
     "output_type": "display_data"
    }
   ],
   "source": [
    "plt.plot(np.arange(0, 500),1-train_accuracy12)\n",
    "plt.plot(np.arange(0,500),1-valid_accuracy12)\n",
    "plt.show()"
   ]
  },
  {
   "cell_type": "code",
   "execution_count": 23,
   "metadata": {},
   "outputs": [
    {
     "name": "stdout",
     "output_type": "stream",
     "text": [
      "Training error becomes 0 at iteration number  2\n",
      "As we can see the data is overfit when the model becomes way too complex\n"
     ]
    }
   ],
   "source": [
    "print(\"Training error becomes 0 at iteration number \",np.where(train_accuracy12==1)[0][0])\n",
    "print(\"As we can see the data is overfit when the model becomes way too complex\")"
   ]
  },
  {
   "cell_type": "markdown",
   "metadata": {},
   "source": [
    "##### Review:\n",
    "\n",
    "As we can see the initial less models required a lot more iterations than the complex model. As the model complexity increased the training error went down to 0 quite quickly. We can also notice the slight increase in the validation accuracy when the maximum tree depth was 4 which indicates some over-fitting. When the maximum tree depth we can see very clear over-fitting. \n",
    "\n",
    "So overall the model with maximum tree depth 3 perform the best.\n"
   ]
  },
  {
   "cell_type": "markdown",
   "metadata": {},
   "source": [
    "### [15 points] Problem 4: AdaBoost as a Margin-Maximizing Model \n",
    "***\n",
    "\n",
    "Despite the fact that we're making our model more complex with the addition of each weak learner, AdaBoost does not typically overfit the training data. The reason for this is that the model becomes more _confident_ with each boosting iteration. This _confidence_ can be interpreted mathematically as a margin. Recall that after $K$ iterations the algorithm terminates with the classifier \n",
    "\n",
    "$$\n",
    "H({\\bf x}) = \\textrm{sign}\\left[\\displaystyle\\sum_{k=1}^K\\alpha_k h_k({\\bf x}) \\right]\n",
    "$$\n",
    "\n",
    "Similarly, we can define the intermediate classifier $H_\\ell$ by \n",
    "\n",
    "$$\n",
    "H_\\ell({\\bf x}) = \\textrm{sign}\\left[\\displaystyle\\sum_{k=1}^\\ell\\alpha_k h_k({\\bf x}) \\right]\n",
    "$$\n",
    "\n",
    "where $\\ell \\leq K$. Note that in either case the model returns predictions of the form $y \\in \\{-1, 1\\}$ which does not give us any indication of the model's confidence in a prediction. Define the normalized coefficients $\\hat{\\alpha}_k$ as follows: \n",
    "\n",
    "$$\n",
    "\\hat{\\alpha}_k = \\dfrac{\\alpha_k}{\\sum_{t=1}^K \\alpha_k}\n",
    "$$\n",
    "\n",
    "Define the margin of a training example ${\\bf x}$ after $\\ell$ iterations as the sum of the normalized coefficients of weak learners that vote correctly minus the sum of the normalized coefficients of the weak learners that vote incorrectly: \n",
    "\n",
    "$$\n",
    "\\textrm{margin}_\\ell ({\\bf x}) = \\sum_{k=1:~h_k({\\bf x}) = y}^\\ell \\hat{\\alpha}_k - \\sum_{k=1:~h_k({\\bf x}) \\neq y}^\\ell \\hat{\\alpha}_k \n",
    "$$\n",
    "\n",
    "**Part A**: Briefly explain mathematically how $\\textrm{margin}_\\ell({\\bf x})$ can be interpreted as a margin.  **Hint**: You'll want to think back on what we meant by a _margin_ in our discussion of Support Vector Machines. "
   ]
  },
  {
   "cell_type": "markdown",
   "metadata": {
    "collapsed": true
   },
   "source": [
    "**Answer**\n",
    "\n",
    "Let us discuss ease of classification for a point.\n",
    "\n",
    "Ada boost takes the weighted sum of predictions by all the weak learners.\n",
    "\n",
    "Now if a point is easily classified that means the weighted sum will be high. The weighted sum is basically the sum of all alphas matched with their true value. \n",
    "\n",
    "So $\\text{margin}_\\ell ({\\bf x})$ will determine how good are the l learners to classify the point\n",
    "\n",
    "\n",
    "\n",
    "$\n",
    "\\textrm{margin}_\\ell ({\\bf x}) >> 0 \n",
    "$ means that the point was classified with good confidence\n",
    "\n",
    "\n",
    "\n",
    "$\n",
    "\\textrm{margin}_\\ell ({\\bf x}) \\approx 0 \n",
    "$ means that the point was classified with difficulty\n",
    "\n",
    "\n",
    "$\n",
    "\\textrm{margin}_\\ell ({\\bf x}) < 0 \n",
    "$ means that the point was wrongly classified"
   ]
  },
  {
   "cell_type": "markdown",
   "metadata": {},
   "source": [
    "**Part B**: Complete the `staged_margin` method in the `AdaBoost` class above so that it computes the margin for a single training example ${\\bf x}$ after each boosting iteration. "
   ]
  },
  {
   "cell_type": "code",
   "execution_count": 24,
   "metadata": {},
   "outputs": [
    {
     "name": "stdout",
     "output_type": "stream",
     "text": [
      "[0.12507215128370425, 0.20532144667299904, 0.26995772183411437, 0.34684182768189525, 0.44119897331850555, 0.51935023237724687, 0.43365223917722862, 0.51972724183488128, 0.58784910515680577, 0.65293056863068166, 0.56088073437289676, 0.64450434508439369]\n"
     ]
    }
   ],
   "source": [
    "classifier=AdaBoost(n_learners=np.where(train_accuracy3==1)[0][0], base=DecisionTreeClassifier(max_depth=3), random_state=1234)\n",
    "classifier.fit(data.X_train,data.y_train)\n",
    "\n",
    "print(classifier.staged_margin(data.X_train[0],data.y_train[0]))\n"
   ]
  },
  {
   "cell_type": "markdown",
   "metadata": {},
   "source": [
    "**Part C**: Find four **training** examples from the MNIST that meet the following criteria: \n",
    "\n",
    "- one $3$ that AdaBoost can classify easily  \n",
    "- one $8$ that AdaBoost can classify easily  \n",
    "- one $3$ that AdaBoost has difficulty with \n",
    "- one $8$ that AdaBoost has difficulty with \n",
    "\n",
    "Use the `view_digit` function given below to display the four examples that you found. \n",
    "\n",
    "**Advice**: Since AdaBoost will likely classify **all** training examples correctly given enough boosting iterations, you might try fitting an AdaBoost classifier with just a handful of boosting iterations and use it to identify examples of each desired type. "
   ]
  },
  {
   "cell_type": "code",
   "execution_count": 25,
   "metadata": {
    "ExecuteTime": {
     "end_time": "2018-04-02T09:59:01.257421Z",
     "start_time": "2018-04-02T09:59:01.068539Z"
    }
   },
   "outputs": [
    {
     "name": "stdout",
     "output_type": "stream",
     "text": [
      "true label: -1\n"
     ]
    },
    {
     "data": {
      "image/png": "[encoded data removed]",
      "text/plain": [
       "<matplotlib.figure.Figure at 0x18fba4bf710>"
      ]
     },
     "metadata": {},
     "output_type": "display_data"
    }
   ],
   "source": [
    "def view_digit(example, label=None):\n",
    "    if label: print(\"true label: {:d}\".format(label))\n",
    "    plt.imshow(example.reshape(21,21), cmap='gray');\n",
    "    \n",
    "view_digit(data.X_train[0,:], data.y_train[0])"
   ]
  },
  {
   "cell_type": "code",
   "execution_count": 26,
   "metadata": {},
   "outputs": [],
   "source": [
    "ease_of_accuracy_3=[]\n",
    "ease_of_accuracy_8=[]\n",
    "for i in range(len(data.X_train)):\n",
    "    if data.y_train[i]==-1:\n",
    "        ease_of_accuracy_3.append([classifier.staged_margin(data.X_train[i],data.y_train[i])[-1],i])\n",
    "    else:\n",
    "        ease_of_accuracy_8.append([classifier.staged_margin(data.X_train[i],data.y_train[i])[-1],i])\n",
    "\n",
    "\n",
    "ease_of_accuracy_3=sorted(ease_of_accuracy_3, key=lambda x: x[0])\n",
    "\n",
    "\n",
    "ease_of_accuracy_8=sorted(ease_of_accuracy_8, key=lambda x: x[0])\n",
    "\n"
   ]
  },
  {
   "cell_type": "code",
   "execution_count": 27,
   "metadata": {},
   "outputs": [
    {
     "name": "stdout",
     "output_type": "stream",
     "text": [
      "Most difficult 3\n"
     ]
    },
    {
     "data": {
      "image/png": "[encoded data removed]",
      "text/plain": [
       "<matplotlib.figure.Figure at 0x18fb9ee7470>"
      ]
     },
     "metadata": {},
     "output_type": "display_data"
    }
   ],
   "source": [
    "print(\"Most difficult 3\")\n",
    "view_digit(data.X_train[ease_of_accuracy_3[0][1]])"
   ]
  },
  {
   "cell_type": "code",
   "execution_count": 28,
   "metadata": {},
   "outputs": [
    {
     "name": "stdout",
     "output_type": "stream",
     "text": [
      "Most easy 3\n"
     ]
    },
    {
     "data": {
      "image/png": "[encoded data removed]",
      "text/plain": [
       "<matplotlib.figure.Figure at 0x18fba5f8320>"
      ]
     },
     "metadata": {},
     "output_type": "display_data"
    }
   ],
   "source": [
    "print(\"Most easy 3\")\n",
    "view_digit(data.X_train[ease_of_accuracy_3[-1][1]])\n"
   ]
  },
  {
   "cell_type": "code",
   "execution_count": 29,
   "metadata": {},
   "outputs": [
    {
     "name": "stdout",
     "output_type": "stream",
     "text": [
      "Most difficult 8\n"
     ]
    },
    {
     "data": {
      "image/png": "[encoded data removed]",
      "text/plain": [
       "<matplotlib.figure.Figure at 0x18fba6236d8>"
      ]
     },
     "metadata": {},
     "output_type": "display_data"
    }
   ],
   "source": [
    "\n",
    "print(\"Most difficult 8\")\n",
    "view_digit(data.X_train[ease_of_accuracy_8[0][1]])\n"
   ]
  },
  {
   "cell_type": "code",
   "execution_count": 30,
   "metadata": {},
   "outputs": [
    {
     "name": "stdout",
     "output_type": "stream",
     "text": [
      "Most easy 8\n"
     ]
    },
    {
     "data": {
      "image/png": "[encoded data removed]",
      "text/plain": [
       "<matplotlib.figure.Figure at 0x18fba5ca908>"
      ]
     },
     "metadata": {},
     "output_type": "display_data"
    }
   ],
   "source": [
    "print(\"Most easy 8\")\n",
    "view_digit(data.X_train[ease_of_accuracy_8[-1][1]])"
   ]
  },
  {
   "cell_type": "markdown",
   "metadata": {},
   "source": [
    "**Part D**: Using an AdaBoost classifier with at least $K=200$ depth-1 decision trees as the weak learners, plot the staged margin for each of the four examples that you found in **Part C** on the same set of axes. (Be sure to include a legend so we can tell which staged margin corresponds to which example).  Explain your results in terms of the margin of the classifier on each training examples.  More broadly, how the margin-maximizing property might allow AdaBoost to continue improving generalization even after the error on the training set reaches zero.  \n"
   ]
  },
  {
   "cell_type": "code",
   "execution_count": 31,
   "metadata": {},
   "outputs": [
    {
     "data": {
      "image/png": "[encoded data removed]",
      "text/plain": [
       "<matplotlib.figure.Figure at 0x18fba4bf160>"
      ]
     },
     "metadata": {},
     "output_type": "display_data"
    }
   ],
   "source": [
    "classifier=AdaBoost(n_learners=200, base=DecisionTreeClassifier(max_depth=1), random_state=1234)\n",
    "classifier.fit(data.X_train,data.y_train)\n",
    "ease_of_accuracy_3=[]\n",
    "ease_of_accuracy_8=[]\n",
    "for i in range(len(data.X_train)):\n",
    "    if data.y_train[i]==-1:\n",
    "        ease_of_accuracy_3.append([classifier.staged_margin(data.X_train[i],data.y_train[i])[-1],i])\n",
    "    else:\n",
    "        ease_of_accuracy_8.append([classifier.staged_margin(data.X_train[i],data.y_train[i])[-1],i])\n",
    "\n",
    "\n",
    "ease_of_accuracy_3=sorted(ease_of_accuracy_3, key=lambda x: x[0])\n",
    "\n",
    "\n",
    "ease_of_accuracy_8=sorted(ease_of_accuracy_8, key=lambda x: x[0])\n",
    "\n",
    "\n",
    "plt.plot(np.arange(200),classifier.staged_margin(data.X_train[ease_of_accuracy_3[0][1]],data.y_train[ease_of_accuracy_3[0][1]]),label=\"Most difficult 3\")\n",
    "         \n",
    "plt.plot(np.arange(200),classifier.staged_margin(data.X_train[ease_of_accuracy_3[-1][1]],data.y_train[ease_of_accuracy_3[-1][1]]),label=\"Most easy 3\")\n",
    "         \n",
    "plt.plot(np.arange(200),classifier.staged_margin(data.X_train[ease_of_accuracy_8[0][1]],data.y_train[ease_of_accuracy_8[0][1]]),label=\"Most difficult 8\")\n",
    "         \n",
    "plt.plot(np.arange(200),classifier.staged_margin(data.X_train[ease_of_accuracy_8[-1][1]],data.y_train[ease_of_accuracy_8[-1][1]]),label=\"Most easy 8\")\n",
    "\n",
    "plt.legend(loc='best')\n",
    "plt.show()"
   ]
  },
  {
   "cell_type": "markdown",
   "metadata": {},
   "source": [
    "As mentoioned in **part A** the ease of prediction will be indicated by larger margins. We can see that clearly in the graphs. Both easily identified 3 and 8 have quite high alphas. For most easy 3 the margin after 200 iteration is about 0.46. If we do some basic math we can say that: \n",
    "\n",
    "$$\n",
    "\\sum_{k=1:~h_k({\\bf x}) = y}^\\ell \\hat{\\alpha}_k = 0.73\n",
    "$$\n",
    "\n",
    "and\n",
    "\n",
    "$$\n",
    "\\sum_{k=1:~h_k({\\bf x}) \\neq y}^\\ell \\hat{\\alpha}_k = 0.27\n",
    "$$\n",
    "\n",
    "As the correct alphas dominate the classifer easily classified the point. So for points classifed with low confidence will have a greater value for $\\sum_{k=1:~h_k({\\bf x}) \\neq y}^\\ell \\hat{\\alpha}_k$ and so the weights for those points will be bigger than that of point with big margins. And so the next boosting iteration will still consider them important."
   ]
  },
  {
   "cell_type": "code",
   "execution_count": null,
   "metadata": {
    "collapsed": true
   },
   "outputs": [],
   "source": []
  }
 ],
 "metadata": {
  "kernelspec": {
   "display_name": "Python 3",
   "language": "python",
   "name": "python3"
  },
  "language_info": {
   "codemirror_mode": {
    "name": "ipython",
    "version": 3
   },
   "file_extension": ".py",
   "mimetype": "text/x-python",
   "name": "python",
   "nbconvert_exporter": "python",
   "pygments_lexer": "ipython3",
   "version": "3.6.3"
  }
 },
 "nbformat": 4,
 "nbformat_minor": 2
}
