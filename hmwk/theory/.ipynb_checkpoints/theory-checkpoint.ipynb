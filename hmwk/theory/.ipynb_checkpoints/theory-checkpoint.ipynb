{
 "cells": [
  {
   "cell_type": "markdown",
   "metadata": {},
   "source": [
    "# Learning Theory Homework \n",
    "***\n",
    "**Name : Prashil Bhimani** \n",
    "***\n",
    "\n",
    "This assignment is due on Moodle by **5pm on Friday March 9th**. Submit only this Jupyter notebook to Moodle. Do not compress it using tar, rar, zip, etc. Your solutions to analysis questions should be done in Markdown directly below the associated question.  Remember that you are encouraged to discuss the problems with your instructors and classmates, but **you must write all code and solutions on your own**.  For a refresher on the course **Collaboration Policy** click [here](https://github.com/chrisketelsen/CSCI5622-Machine-Learning/blob/master/resources/syllabus.md#collaboration-policy)\n",
    "\n"
   ]
  },
  {
   "cell_type": "markdown",
   "metadata": {},
   "source": [
    "## Overview \n",
    "***\n",
    "\n",
    "In this assignment you will explore the concepts of PAC learnability and VC dimension. \n"
   ]
  },
  {
   "cell_type": "markdown",
   "metadata": {},
   "source": [
    "### [15 points] Problem 1: \n",
    "***\n",
    "\n",
    "Consider the class C of concepts defined by triangles with **distinct** vertices of the form $(i, j)$ where $i$ and $j$ are integers in the interval $[0,99]$. A concept c labels points on the interior and boundary of the associated triangle as positive and points exterior to the triangle as negative.\n",
    "\n",
    "**Note**: To make life easier, we'll allow degenerate triangles in $C$. That is, triangles where the vertices are collinear. The following image depicts an example of a nondegenerate and a degenerate triangle."
   ]
  },
  {
   "cell_type": "markdown",
   "metadata": {},
   "source": [
    "<img src=\"figs/triangles.png\" width=400 height=50>  "
   ]
  },
  {
   "cell_type": "markdown",
   "metadata": {},
   "source": [
    "**Part A**: Suppose we have an algorithm that produces a consistent $h$ from the hypothesis class $H = C$. Give a bound on the number of training examples sufficient to assure that for any target concept $c$ in $C$, our algorithm will, with probability $1-\\delta$, output a hypothesis $h$ with generalization error at most $\\epsilon$."
   ]
  },
  {
   "cell_type": "markdown",
   "metadata": {
    "collapsed": true
   },
   "source": [
    "**Answer** \n",
    "\n",
    "The bound for finite number of concepts is given by the below formula:\n",
    "$$\n",
    " m =>\\frac{1}{\\epsilon} (\\ln{|H|}+\\ln\\frac{1}{\\delta}) \n",
    "$$\n",
    "The cardinality of H i.e. |H| can be found by using any of the three points from a combinations of 100*100C3 points.\n",
    "$$m =>\\frac{1}{\\epsilon} (\\ln{10000C3}+\\ln\\frac{1}{\\delta})\\\\\n",
    "m >= \\frac{1}{\\epsilon} ({25.839}+\\ln\\frac{1}{\\delta})\n",
    "$$"
   ]
  },
  {
   "cell_type": "markdown",
   "metadata": {},
   "source": [
    "**Part B**: Based on your bound in **Part A**, determine the minimum number of training examples necessary such that for any target concept $c$ in $C$, our algorithm will, with probability $0.95$, output a hypothesis $h$ with generalization error at most $0.15$.  "
   ]
  },
  {
   "cell_type": "markdown",
   "metadata": {
    "collapsed": true
   },
   "source": [
    "** Answer **\n",
    "Given that i an j lies in the interval [0,99] i.e, there are total 100*100=10000 points out of which three points needs to be chosen to form the triangle.  \n",
    "  \n",
    "Those three points can be chosen in 10000C3 ways.  \n",
    "  \n",
    "Therefore, cardinality of hypothesis |H|=10000C3  \n",
    "  \n",
    "Error, $\\epsilon$ = 0.15  \n",
    "  \n",
    "Error Probability, $\\delta$ = 1-0.95=0.05  \n",
    "  \n",
    "We know that,  \n",
    "  \n",
    "$m>=\\frac{1}{\\epsilon}(ln|H|+ln\\frac{1}{\\delta})$  \n",
    "  \n",
    "$m>=\\frac{1}{0.15}(ln|10000C3|+ln\\frac{1}{0.05})$  \n",
    "  \n",
    "$m>=\\frac{1}{0.15}(28.834)$  \n",
    "  \n",
    "m>=192.2266  \n",
    "  \n",
    "m=193  \n",
    "  \n",
    "Thus the minimum number of training examples required=193"
   ]
  },
  {
   "cell_type": "markdown",
   "metadata": {},
   "source": [
    "### [15 points] Problem 2: \n",
    "***\n",
    "\n",
    "Consider feature vectors that live in two-dimensional space and the class of hypotheses defined by circles **centered at the origin**. There are two different kinds of hypotheses $h$ in this class. One type of hypthesis classifies points as positive if they lie on the boundary or **interior** of the circle, and negative otherwise. The other type of hypothesis classifies points as positive if they lie on the boundary or **exterior** of the circle, and negative otherwise. State and prove (rigorously) the VC dimension of this family of classifiers."
   ]
  },
  {
   "cell_type": "markdown",
   "metadata": {},
   "source": [
    "### Answer:\n",
    "Lets assume that any point in the any red area of a plot will be classified negative and any point in the blue area will be classified as positive."
   ]
  },
  {
   "cell_type": "markdown",
   "metadata": {},
   "source": [
    "So the circle which will classify the **exterior points as positive** will be something like plot 1 and the circle which will classify the **interior as positive** will be something like plot 2."
   ]
  },
  {
   "cell_type": "code",
   "execution_count": 1,
   "metadata": {},
   "outputs": [
    {
     "data": {
      "image/png": "[encoded data removed]",
      "text/plain": [
       "<matplotlib.figure.Figure at 0x22a635ea550>"
      ]
     },
     "metadata": {},
     "output_type": "display_data"
    }
   ],
   "source": [
    "import matplotlib.pyplot as plt\n",
    "\n",
    "fig, axes = plt.subplots(nrows=1, ncols=2, figsize=(8,4))\n",
    "axes[0].fill([-4,-4,4,4],[-4,4,4,-4],\"b\", zorder=1)\n",
    "axes[0].add_patch(plt.Circle((0, 0), 2, color='w'))\n",
    "axes[0].set_xlim([-4, 4])\n",
    "axes[0].set_ylim([-4, 4])\n",
    "axes[0].set_title(\"Hypothesis 1\")\n",
    "axes[1].add_patch(plt.Circle((0, 0), 2, color='blue'))\n",
    "axes[1].set_xlim([-4, 4])\n",
    "axes[1].set_ylim([-4, 4])\n",
    "axes[1].set_title(\"Hypothesis 2\")\n",
    "plt.show()\n"
   ]
  },
  {
   "cell_type": "markdown",
   "metadata": {},
   "source": [
    "**Let us consider 1 point for to shatter**"
   ]
  },
  {
   "cell_type": "code",
   "execution_count": 2,
   "metadata": {},
   "outputs": [
    {
     "data": {
      "image/png": "[encoded data removed]",
      "text/plain": [
       "<matplotlib.figure.Figure at 0x22a635eb128>"
      ]
     },
     "metadata": {},
     "output_type": "display_data"
    }
   ],
   "source": [
    "fig, axes = plt.subplots(nrows=1, ncols=2, figsize=(10,4))\n",
    "axes[0].fill([-4,-4,4,4],[-4,4,4,-4],\"b\", zorder=1)\n",
    "axes[0].add_patch(plt.Circle((0, 0), 1, color='w'))\n",
    "axes[0].set_xlim([-4, 4])\n",
    "axes[0].set_ylim([-4, 4])\n",
    "axes[0].scatter([1],[1],marker='+',color='r',zorder=2)\n",
    "axes[0].set_title(\"Shattered by Hypothesis 1 \\n (Can also be Shattered by Hypothesis 2)\")\n",
    "\n",
    "axes[1].fill([-4,-4,4,4],[-4,4,4,-4],\"b\", zorder=1)\n",
    "axes[1].add_patch(plt.Circle((0, 0), 2, color='w'))\n",
    "axes[1].set_xlim([-4, 4])\n",
    "axes[1].set_ylim([-4, 4])\n",
    "axes[1].scatter([1],[1],marker='_',color='r',zorder=2)\n",
    "axes[1].set_title(\"Shattered by Hypothesis 1 \\n(Can also be Shattered by Hypothesis 2)\")\n",
    "plt.show()"
   ]
  },
  {
   "cell_type": "markdown",
   "metadata": {},
   "source": [
    "So there is atleast 1 configuration of 1 points that is shattered. Hence VC dimension is atleast 2 \n",
    "\n",
    "\n",
    "** Let us consider a set of 2 points**\n",
    "\n"
   ]
  },
  {
   "cell_type": "code",
   "execution_count": 3,
   "metadata": {},
   "outputs": [
    {
     "data": {
      "image/png": "[encoded data removed]",
      "text/plain": [
       "<matplotlib.figure.Figure at 0x22a64caf3c8>"
      ]
     },
     "metadata": {},
     "output_type": "display_data"
    }
   ],
   "source": [
    "fig, axes = plt.subplots(nrows=1, ncols=4, figsize=(20,4))\n",
    "axes[0].fill([-4,-4,4,4],[-4,4,4,-4],\"b\", zorder=0)\n",
    "axes[0].add_patch(plt.Circle((0, 0), 1, color='w'))\n",
    "axes[0].scatter([1,2],[1,2],c=\"r\",marker='+',zorder=2)\n",
    "axes[0].set_xlim([-4, 4])\n",
    "axes[0].set_ylim([-4, 4])\n",
    "axes[0].set_title(\"Shattered by Hypothesis 1 \\n (Can also be Shattered by Hypothesis 2)\")\n",
    "\n",
    "axes[1].fill([-4,-4,4,4],[-4,4,4,-4],\"b\", zorder=1)\n",
    "axes[1].add_patch(plt.Circle((0, 0), 2, color='w'))\n",
    "axes[1].set_xlim([-4, 4])\n",
    "axes[1].set_ylim([-4, 4])\n",
    "axes[1].scatter([1],[1],marker='_',color='r',zorder=2)\n",
    "axes[1].scatter([2],[2],marker='+',color='r',zorder=2)\n",
    "axes[1].set_title(\"Shattered by Hypothesis 1 \\n (Can not be Shattered by Hypothesis 2)\")\n",
    "\n",
    "\n",
    "#axes[2].fill([-4,-4,4,4],[-4,4,4,-4],\"b\", zorder=1)\n",
    "axes[2].add_patch(plt.Circle((0, 0), 2, color='b'))\n",
    "axes[2].set_xlim([-4, 4])\n",
    "axes[2].set_ylim([-4, 4])\n",
    "axes[2].scatter([1],[1],marker='+',color='r',zorder=2)\n",
    "axes[2].scatter([2],[2],marker='_',color='r',zorder=2)\n",
    "axes[2].set_title(\"Shattered by Hypothesis 2 \\n (Can not be Shattered by Hypothesis 1)\")\n",
    "\n",
    "\n",
    "axes[3].fill([-4,-4,4,4],[-4,4,4,-4],\"b\", zorder=1)\n",
    "axes[3].add_patch(plt.Circle((0, 0), 3, color='w'))\n",
    "axes[3].set_xlim([-4, 4])\n",
    "axes[3].set_ylim([-4, 4])\n",
    "axes[3].scatter([1,2],[1,2],marker='_',color='r',zorder=2)\n",
    "axes[3].set_title(\"Shattered by Hypothesis 1 \\n (Can also be Shattered by Hypothesis 2)\")\n",
    "plt.show()\n"
   ]
  },
  {
   "cell_type": "markdown",
   "metadata": {},
   "source": [
    "So there is atleast 1 configuration of 2 points that is shattered. Hence VC dimension is atleast 2\n",
    "Hence lower bound for VCDim=2\n",
    "\n",
    "** Let us consider 3 points**\n",
    "\n",
    "For let us consider any set of 3 points p1, p2 and p3.<br>\n",
    "Let p1<=p2<=p3.<br>\n",
    "Note, we are not losing any generality by making that assumption\n",
    "<br><br>\n",
    "Now consider the case:\n",
    "<br>\n",
    "**When **\n",
    " - p1 is positive\n",
    " - p2 is negative\n",
    " - p3 is positive\n",
    "<br>\n",
    "\n",
    "**Lets consider Hypothesis 1<br><br>**\n",
    "If the radius for Hypothesis be r< p1 <br>\n",
    "So it will classify all as positive and hence it cannot be shattered<br><br>\n",
    "If the radius for Hypothesis be  p1< r< p2 <br>\n",
    "So it will classify p1 as negative and p2 and p3 as positive and hence it cannot be shattered<br><br>\n",
    "If the radius for Hypothesis be  p2< r< p3 <br>\n",
    "So it will classify p1 and p2 as negative and p3 as positive and hence it cannot be shattered<br><br>\n",
    "If the radius for Hypothesis be p3< r <br>\n",
    "So it will classify all as negative and hence it cannot be shattered<br>\n",
    "\n",
    "**Lets consider Hypothesis 2<br><br>**\n",
    "If the radius for Hypothesis be r< p1 <br>\n",
    "So it will classify all as negative and hence it cannot be shattered<br><br>\n",
    "If the radius for Hypothesis be  p1< r< p2 <br>\n",
    "So it will classify p1 as positive and p2 and p3 as negative and hence it cannot be shattered<br><br>\n",
    "If the radius for Hypothesis be  p2< r< p3 <br>\n",
    "So it will classify p1 and p2 as positive and p3 as negative and hence it cannot be shattered<br><br>\n",
    "If the radius for Hypothesis be p3< r <br>\n",
    "So it will classify all as positive and hence it cannot be shattered<br>\n",
    "\n",
    "\n",
    "\n",
    "\n",
    "<br><br><br>"
   ]
  },
  {
   "cell_type": "markdown",
   "metadata": {},
   "source": [
    "\n",
    "Hence in no configuration of 3 points can the Hypothesis shatter it. Hence we say that<br>\n",
    "Upper Bound for VCDim =3-1 =2\n",
    "\n",
    "Hence the lower bound=2 and upper bound is also 2.\n",
    "\n",
    "Hence the **VCDim=2**"
   ]
  },
  {
   "cell_type": "markdown",
   "metadata": {},
   "source": [
    "### [20 points] Problem 3: Empirical Verification of PAC Bounds for Axis-Aligned Rectangles \n",
    "***\n",
    "\n",
    "In the in-class notebook associated with PAC Learnability, we proved a PAC bound for the class of concepts $C$ comprised of axis-aligned rectangles living in $\\mathbb{R}^2$ of the form $(a \\leq x \\leq b) \\wedge (c \\leq y \\leq d)$ where $a, b, c, d$ are real numbers. Specifically, we proved that with probability $1-\\delta$, any consistent learner could learn a hypothesis $h$ in $H = C$ with generalization error less than $\\epsilon$ provided that the number of training examples satisfied \n",
    "\n",
    "$$\n",
    "m > \\frac{4}{\\epsilon}\\log\\frac{4}{\\delta}\n",
    "$$\n",
    "\n",
    "In this problem you will empirically verify this bound for the restricted concept class $C$ where the rectangles are defined by $(a \\leq x \\leq b) \\wedge (c \\leq y \\leq d)$ where $a, b, c, d$ are real numbers satisfying $0 \\leq a \\leq b \\leq 100$ and $0 \\leq c \\leq d \\leq 100$. \n",
    "\n",
    "**Part A**: The following is a general outline of how you should accomplish this, but it is up to you how you organize your code. "
   ]
  },
  {
   "cell_type": "markdown",
   "metadata": {},
   "source": [
    "- Write some code that randomly generates a concept rectangle $c$. \n",
    "\n",
    "    ** Answer ** \n",
    "\n",
    "        Check generate_random_concept() \n",
    "\n",
    "\n",
    "\n",
    "- Write some code that, given feature vectors of length-2, labels them according to some rectangle (that is, labels a point positive if the point is on the boundary or interior of the rectangle, and negative otherwise).  \n",
    "\n",
    "    ** Answer ** \n",
    "\n",
    "        Check generate_label_from_class() \n",
    "\n",
    "\n",
    "- Write some code that, given training examples of length-2, and labeled according to a concept $c$, returns a consistent hypothesis rectangle $h$. \n",
    "\n",
    "    ** Answer ** \n",
    "\n",
    "        Check generate_hypothesis() \n",
    "\n",
    "\n",
    "- Write some code that generates a training set of size $m$, labels them according to a random concept $c$, learns a consistent hypothesis $h$, and then approximates the generalization error by predicting on $1000$ new examples from the same distribution as the training data. \n",
    "\n",
    "    ** Answer ** \n",
    "\n",
    "        Check get_generalization_error() \n",
    "\n",
    "\n",
    "- Write some code that computes approximate generalization errors for $100$ independent concepts $c$ and associated training sets of size $m$, and returns the worst-case generalization error at the confidence level $1-\\delta$.  One way to do this in the case that say $\\delta = 0.05$, is to report the $95^\\textrm{th}$ percentile of the $100$ samples of the generalization error. We can then say that, in our simulation, $100(1-\\delta)\\%$ of our observed generalization errors were less than our computed value. (**Bonus**: If your code is efficient, try increasing the number of runs in the simulation to $500$. This should give you a better approximation of the generalization error.) \n",
    "\n",
    "    ** Answer ** \n",
    "\n",
    "        Check run_model() \n"
   ]
  },
  {
   "cell_type": "code",
   "execution_count": 4,
   "metadata": {},
   "outputs": [
    {
     "name": "stdout",
     "output_type": "stream",
     "text": [
      "Concept Class       \tHypothesis Class    \tError\n",
      "[2.07234],[29.4937] \t[3.21720],[37.8918] \t0.051\n",
      "[34.3228],[52.0913] \t[36.0331],[53.3773] \t0.052\n",
      "[4.76892],[46.9823] \t[5.73564],[48.7334] \t0.052\n",
      "[37.8378],[0.01570] \t[37.9387],[10.8175] \t0.052\n",
      "[76.0538],[2.85456] \t[76.7796],[23.8247] \t0.053\n"
     ]
    }
   ],
   "source": [
    "import random\n",
    "\n",
    "class Model:\n",
    "    def __init__ (self,distribution,parameters):\n",
    "        self.distribution=distribution\n",
    "        self.params=parameters \n",
    "    def generate_random_concept(self):\n",
    "        boundary=[]\n",
    "        boundary.append(random.uniform(0,100))\n",
    "        boundary.append(random.uniform(0,100))\n",
    "        boundary.append(random.uniform(0,100))\n",
    "        boundary.append(random.uniform(0,100))\n",
    "        boundary=sorted(boundary)\n",
    "        if random.random() > 0.5:\n",
    "            self.concept= [[boundary[0],boundary[2]],[boundary[1],boundary[3]]]\n",
    "        else:\n",
    "            self.concept= [[boundary[1],boundary[3]],[boundary[0],boundary[2]]]\n",
    "\n",
    "    def generate_label_from_class(self,feature,boundary):\n",
    "        if boundary[0][0]<=feature[0]<=boundary[0][1] and boundary[1][0]<=feature[1]<=boundary[1][1]:\n",
    "            return 1\n",
    "        else:\n",
    "            return 0\n",
    "\n",
    "    def generate_random_samples(self, num=100):\n",
    "        samples=[]\n",
    "        for i in range(0,num):\n",
    "            samples.append([self.distribution(self.params[0],self.params[1]),self.distribution(self.params[0],self.params[1])])\n",
    "        return samples\n",
    "    def generate_hypothesis(self,train_data):\n",
    "        min_x=101\n",
    "        max_x=-1\n",
    "        min_y=101\n",
    "        max_y=-1    \n",
    "        for i in train_data:\n",
    "            if self.generate_label_from_class(i,self.concept):\n",
    "                if i[0]<min_x:\n",
    "                    min_x=i[0]\n",
    "                if i[0]>max_x:\n",
    "                    max_x=i[0]\n",
    "                if i[1]<min_y:\n",
    "                    min_y=i[1]\n",
    "                if i[1]>max_y:\n",
    "                    max_y=i[1]\n",
    "        self.hypo= [[min_x,max_x],[min_y,max_y]]\n",
    "\n",
    "    def get_generalization_error(self,test_data_length=1000):\n",
    "        test_samples=self.generate_random_samples(num=test_data_length)\n",
    "        error=0\n",
    "        for i in test_samples:\n",
    "            if self.generate_label_from_class(i,self.concept)!=self.generate_label_from_class(i,self.hypo):\n",
    "                error=error+1\n",
    "        return error/len(test_samples)\n",
    "\n",
    "    def run_model(self,runs=100, m=100):\n",
    "        model_run=[]\n",
    "        for i in range(0,runs):\n",
    "            self.generate_random_concept()\n",
    "            train_samples=self.generate_random_samples(num=m)\n",
    "            self.generate_hypothesis(train_samples)\n",
    "            gen_error=self.get_generalization_error()\n",
    "            model_run.append([self.concept,self.hypo,gen_error])\n",
    "        self.model_prediction=model_run\n",
    "\n",
    "    def print_model(self,delta):\n",
    "        print('{:<20}'.format(\"Concept Class\"),end=\"\\t\")\n",
    "        print('{:<20}'.format(\"Hypothesis Class\"),end=\"\\t\")\n",
    "        print(\"Error\")\n",
    "        for i in sorted(self.model_prediction, key=lambda x: x[2])[-int(len(self.model_prediction)*delta):]:\n",
    "            print('{:<20}'.format(str(i[0][0])[:8]+\"],\"+str(i[0][1])[:8]+\"]\"),end=\"\\t\")\n",
    "            print('{:<20}'.format(str(i[1][0])[:8]+\"],\"+str(i[1][1])[:8]+\"]\"),end=\"\\t\")\n",
    "            print(i[2])\n",
    "    def get_percentile(self,delta):\n",
    "        import numpy as np\n",
    "        return np.percentile(np.asarray([e[2] for e in self.model_prediction]),100*(1-delta))\n",
    "\n",
    "m=Model(random.uniform,[0,100])\n",
    "m.run_model(m=200,runs=500)\n",
    "m.print_model(delta=0.01)"
   ]
  },
  {
   "cell_type": "markdown",
   "metadata": {
    "collapsed": true
   },
   "source": [
    "**Part B**: Use your code to estimate the generalization error with confidence parameter $\\delta=0.05$ for training sets of size $m$ where $m = 250, 500, 1000, 1250,$ and $1500$ and the data are comprised of points $(x,y)$ where the $x$- and $y$-values are sampled from the continuous uniform distribution $\\textrm{unif}(0,100)$. Make a **log-log** plot with $m$ on the horizontal axes and $\\epsilon$ on the vertical axis.  Additionally, overlay the theoretical PAC bound on your graph and discuss your results. "
   ]
  },
  {
   "cell_type": "markdown",
   "metadata": {},
   "source": [
    "How to get the theoritical bound\n",
    "\n",
    "$$\n",
    "m > \\frac{4}{\\epsilon}\\log\\frac{4}{\\delta}\n",
    "$$\n",
    "\n",
    "As m and epsilon both are positive always\n",
    "\n",
    "We can rewrite the equation as \n",
    "\n",
    "$$\n",
    "{\\epsilon} > \\frac{4}{m}\\log\\frac{4}{\\delta}\n",
    "$$\n",
    "\n",
    "This equation will give is the upper bound of the epsilon error\n"
   ]
  },
  {
   "cell_type": "code",
   "execution_count": 5,
   "metadata": {
    "collapsed": true
   },
   "outputs": [],
   "source": [
    "def get_theoretical_values(m,delta):\n",
    "    error=[]\n",
    "    import math\n",
    "    for i in m:\n",
    "        error.append((4/i)*math.log(4/delta))\n",
    "    return error\n"
   ]
  },
  {
   "cell_type": "code",
   "execution_count": 6,
   "metadata": {},
   "outputs": [
    {
     "data": {
      "image/png": "[encoded data removed]",
      "text/plain": [
       "<matplotlib.figure.Figure at 0x22a635199e8>"
      ]
     },
     "metadata": {},
     "output_type": "display_data"
    }
   ],
   "source": [
    "m=Model(random.uniform,[0,100])\n",
    "train_length=[250,500,1000,1250,1500]\n",
    "error_values=[]\n",
    "for i in train_length:\n",
    "    m.run_model(m=i,runs=500)\n",
    "    error_values.append(m.get_percentile(delta=0.05))\n",
    "import matplotlib.pyplot as plt\n",
    "t_error=get_theoretical_values(train_length,0.05)\n",
    "plt.loglog(train_length,error_values, label='Practical')\n",
    "plt.loglog(train_length,t_error, label='Theoretical')\n",
    "plt.xlabel(\"# Training examples\")\n",
    "plt.ylabel(\"Generalization error\")\n",
    "plt.legend()\n",
    "plt.show()"
   ]
  },
  {
   "cell_type": "markdown",
   "metadata": {},
   "source": [
    "The practical plot is always bounded by the theoretical plot. As m increases the gap reduces slightly. "
   ]
  },
  {
   "cell_type": "markdown",
   "metadata": {
    "collapsed": true
   },
   "source": [
    "**Part C**: Repeat **Part B** where the data are comprised of points $(x,y)$ where the $x$- and $y$-values are sampled from the normal distribution with mean $\\mu = 50$ and standard deviation $\\sigma = 25$. Again, overlay the theoretical PAC bound on your graph and discuss your results. Do you expect to observe very different results than those observed in **Part B**?  "
   ]
  },
  {
   "cell_type": "markdown",
   "metadata": {},
   "source": [
    "**Answer**\n",
    "\n",
    "- Uniform Distribution: Probability for every point in the range is the same\n",
    "- Normal Distribution: Probability for a point depends on its difference from the mean and the standard deviation\n",
    "<br><br>\n",
    "What we mean is the following:\n",
    "- Consider a normal distribution with mean = 50 and std deviation 20. So +-1 std deviation is 30 to 70. Here 68% of the points will fall between the lines passing through (25,0), (0,25), (75,0), (0,75).\n",
    "- In uniform distribution, the points can fall randomly anywhere between the (0,100) and (100,0) graph\n",
    "<br><br>\n",
    "\n",
    "\n",
    "For +- 2 standard deviation  when mean =50 and std dev= 25, 0-100 will cover about 95 percent of the cases. Hence it will not be very different than the Uniform plot"
   ]
  },
  {
   "cell_type": "code",
   "execution_count": 7,
   "metadata": {},
   "outputs": [
    {
     "data": {
      "image/png": "[encoded data removed]",
      "text/plain": [
       "<matplotlib.figure.Figure at 0x22a60f7c6d8>"
      ]
     },
     "metadata": {},
     "output_type": "display_data"
    }
   ],
   "source": [
    "m=Model(random.normalvariate,[50,25])\n",
    "train_length=[250,500,1000,1250,1500]\n",
    "error_values=[]\n",
    "for i in train_length:\n",
    "    m.run_model(m=i,runs=500)\n",
    "    error_values.append(m.get_percentile(delta=0.05))\n",
    "import matplotlib.pyplot as plt\n",
    "t_error=get_theoretical_values(train_length,0.05)\n",
    "plt.loglog(train_length,error_values, label='Practical')\n",
    "plt.loglog(train_length,t_error, label='Theoritical')\n",
    "plt.xlabel(\"# Training examples\")\n",
    "plt.ylabel(\"Generalization error\")\n",
    "plt.legend()\n",
    "plt.show()"
   ]
  },
  {
   "cell_type": "code",
   "execution_count": null,
   "metadata": {
    "collapsed": true
   },
   "outputs": [],
   "source": []
  }
 ],
 "metadata": {
  "kernelspec": {
   "display_name": "Python 3",
   "language": "python",
   "name": "python3"
  },
  "language_info": {
   "codemirror_mode": {
    "name": "ipython",
    "version": 3
   },
   "file_extension": ".py",
   "mimetype": "text/x-python",
   "name": "python",
   "nbconvert_exporter": "python",
   "pygments_lexer": "ipython3",
   "version": "3.6.3"
  }
 },
 "nbformat": 4,
 "nbformat_minor": 2
}
