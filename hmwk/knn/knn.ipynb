{
 "cells": [
  {
   "cell_type": "markdown",
   "metadata": {},
   "source": [
    "# K-Nearest Neighbors Homework Solutions\n",
    "***\n",
    "**Name : Prashil Bhimani** \n",
    "***\n",
    "\n",
    "This assignment is due on Moodle by **5pm on Friday January 26th**. Submit only this Jupyter notebook to Moodle.  Do not compress it using tar, rar, zip, etc. Your solutions to analysis questions should be done in Markdown directly below the associated question.  Remember that you are encouraged to discuss the problems with your instructors and classmates, but **you must write all code and solutions on your own**.  For a refresher on the course **Collaboration Policy** click [here](https://github.com/chrisketelsen/CSCI5622-Machine-Learning/blob/master/resources/syllabus.md#collaboration-policy)\n",
    "\n"
   ]
  },
  {
   "cell_type": "markdown",
   "metadata": {},
   "source": [
    "## Overview \n",
    "***\n",
    "\n",
    "\n",
    "In this homework you'll implement a K-Nearest Neighbor framework to take an image of a handwritten digit and predict which digit it corresponds to.  \n",
    "\n",
    "<br>\n",
    "\n",
    "![Samples of Handwritten Digits](wide_mnist.png \"MNIST Digits\")\n",
    "\n",
    "\n",
    "<br>\n",
    "\n",
    "This homework is designed to be pretty easy. If you're spending a ton of time on this assignment, then you are either:\n",
    "\n",
    "- not prepared to take this course (i.e., if you're struggling with Python)\n",
    "- seriously over-thinking the assignment\n",
    "- trying to implement too much of KNN from scratch\n",
    "\n",
    "\n",
    "Most of this assignment will be done by calling libraries that are already implemented for you. If you are implementing $n$-dimensional search or your own distance metrics, you are generating extra work for yourself and making yourself vulnerable to errors. \n",
    "\n",
    "Here are the rules: \n",
    "\n",
    "- Do **NOT** load or use any Python packages that are not available in Anaconda 3.6. \n",
    "- Some problems with code may be autograded.  If we provide a function or class API **do not** change it.\n",
    "- Do not change the location of the data or data directory.  Use only relative paths to access the data. "
   ]
  },
  {
   "cell_type": "code",
   "execution_count": 1,
   "metadata": {
    "collapsed": true
   },
   "outputs": [],
   "source": [
    "import numpy as np\n",
    "import matplotlib.pylab as plt\n",
    "%matplotlib inline "
   ]
  },
  {
   "cell_type": "markdown",
   "metadata": {},
   "source": [
    "### [5 points] Problem 1\n",
    "***\n",
    "\n",
    "The class below will load and store the MNIST data.  Load the data and then report: \n",
    "- The number of examples in the training set \n",
    "- The number of examples in the test set \n",
    "- The number of pixels in each image. "
   ]
  },
  {
   "cell_type": "code",
   "execution_count": 2,
   "metadata": {
    "collapsed": true
   },
   "outputs": [],
   "source": [
    "class Numbers:\n",
    "    \"\"\"\n",
    "    Class to store MNIST data\n",
    "    \"\"\"\n",
    "    def __init__(self, location):\n",
    "\n",
    "        import pickle, gzip\n",
    "\n",
    "        # load data from file \n",
    "        f = gzip.open(location, 'rb')\n",
    "        train_set, valid_set, test_set = pickle.load(f)\n",
    "        f.close()\n",
    "\n",
    "        # store for use later  \n",
    "        self.train_x, self.train_y = train_set\n",
    "        self.test_x, self.test_y = valid_set"
   ]
  },
  {
   "cell_type": "code",
   "execution_count": 3,
   "metadata": {
    "collapsed": true
   },
   "outputs": [],
   "source": [
    "data = Numbers(\"../data/mnist.pklz\")"
   ]
  },
  {
   "cell_type": "code",
   "execution_count": 4,
   "metadata": {},
   "outputs": [
    {
     "name": "stdout",
     "output_type": "stream",
     "text": [
      "(50000, 784)\n",
      "(10000,)\n"
     ]
    }
   ],
   "source": [
    "#Printing the shape to get the values\n",
    "print(data.train_x.shape)\n",
    "print(data.test_y.shape)"
   ]
  },
  {
   "cell_type": "markdown",
   "metadata": {},
   "source": [
    "Here is the analysis of the MNIST dataset.\n",
    "1. There are **50,000 examles in trainig data**\n",
    "2. There are **784 features in each examples**\n",
    "3. There **test data size is 10,000**"
   ]
  },
  {
   "cell_type": "markdown",
   "metadata": {},
   "source": [
    "### [30 points] Problem 2\n",
    "***\n",
    "\n",
    "The class below will perform K-Nearest Neighbor classification on our handwritten digit data. Your tasks are as follows:   \n",
    "\n",
    "1. Modify the `label_counts` function to return a dictionary of frequencies corresponding to each label in the training set. \n",
    "1. Modify the `majority` function so that it returns the _label_ that appears most frequently in the $K$-nearest neighbors of the query point.  In the case that the maximum frequency occurs for two or more labels, return the one that appears most frequently in the entire training set. In the case that there is still a tie, break the tie in any way that you choose. \n",
    "1. Modify the `classify` function so that it finds the _indices_ of the $K$ closest training examples to the query point and then calls the `majority` function to return the predicted label. Almost all of the heavy lifting here will be done by the BallTree object from `sklearn.neighbors`, so you'll want to start out by reading the [documentation](http://scikit-learn.org/stable/modules/generated/sklearn.neighbors.BallTree.html).  \n",
    "1. Modify the `confusion_matrix` function to classify examples and record the results in a confusion matrix. You should construct the confusion matrix on your own.  Don't call any additional functions from sklearn to do it for you.\n",
    "\n",
    "The class Knearest also implements an `accuracy` function which you will use in **Problem 3**.  You should not have to modify this function. \n",
    "\n",
    "We've given you unit tests down below based on the simple example worked out in lecture.  At first your code will fail all of them.  Do not move on to **Problem 3** until your code passes all of the unit tests. In addition, passing the unit tests does not guarantee that your implementation is robust and that you'll earn full points on this problem.  You should be designing your own additional tests as well. "
   ]
  },
  {
   "cell_type": "code",
   "execution_count": 5,
   "metadata": {
    "collapsed": true
   },
   "outputs": [],
   "source": [
    "class Knearest:\n",
    "    \"\"\"\n",
    "    kNN classifier\n",
    "    \"\"\"\n",
    "\n",
    "    def __init__(self, X, y, k=5):\n",
    "        \"\"\"\n",
    "        Creates a kNN instance\n",
    "\n",
    "        :param x: Training data input\n",
    "        :param y: Training data output\n",
    "        :param k: The number of nearest points to consider in classification\n",
    "        \"\"\"\n",
    "        \n",
    "        from sklearn.neighbors import BallTree\n",
    "\n",
    "        self._kdtree = BallTree(X)\n",
    "        self._y = y\n",
    "        self._k = k\n",
    "        self._counts = self.label_counts()\n",
    "        \n",
    "    def label_counts(self):\n",
    "        \"\"\"\n",
    "        Given the training labels, return a dictionary d where d[y] is  \n",
    "        the number of times that label y appears in the training set. \n",
    "        \"\"\"\n",
    "        d={}\n",
    "        for i in self._y:\n",
    "            if i in d:\n",
    "                d[i]=d[i]+1\n",
    "            else:\n",
    "                d[i]=1\n",
    "        return d\n",
    "\n",
    "    def majority(self, neighbor_indices):\n",
    "        \"\"\"\n",
    "        Given the indices of training examples, return the majority label. Break ties \n",
    "        by choosing the tied label that appears most often in the training data. \n",
    "\n",
    "        :param neighbor_indices: The indices of the k nearest neighbors\n",
    "        \"\"\"\n",
    "        assert len(neighbor_indices) == self._k, \"Did not get k neighbor indices\"\n",
    "        d={}\n",
    "        #Creating a dict to store the lable count in neighbours\n",
    "        for n in neighbor_indices:\n",
    "            if self._y[n] in d:\n",
    "                d[self._y[n]]=d[self._y[n]]+1\n",
    "            else:\n",
    "                d[self._y[n]]=1\n",
    "        \n",
    "        #Maximum number of times a label is occuring\n",
    "        maximum=max(d.values())\n",
    "        \n",
    "        #labels which occur those many time\n",
    "        max_label=[]\n",
    "        for i in d.keys():\n",
    "            if d[i]>maximum:\n",
    "                maximum=d[i]\n",
    "        for i in d.keys():\n",
    "            if d[i]==maximum:\n",
    "                max_label.append(i)\n",
    "                \n",
    "        #Sort the labels who are max in the neighbour indices by their values in the count dict of the class\n",
    "        max_label = sorted(max_label, key=lambda x: self._counts[x], reverse=True)\n",
    "\n",
    "        #return the 1st element\n",
    "        return max_label[0]\n",
    "    \n",
    "\n",
    "    def classify(self, example):\n",
    "        \"\"\"\n",
    "        Given an example, return the predicted label. \n",
    "\n",
    "        :param example: A representation of an example in the same\n",
    "        format as a row of the training data\n",
    "        \"\"\"\n",
    "        \n",
    "        #Get k labels as a list of list (For multiple examples) to get their distances and indices in the kdTree or Training examples \n",
    "        dist, ind=self._kdtree.query([example], k=self._k) \n",
    "        return self.majority(ind[0])\n",
    "\n",
    "\n",
    "    def confusion_matrix(self, test_x, test_y):\n",
    "        \"\"\"\n",
    "        Given a matrix of test examples and labels, compute the confusion\n",
    "        matrix for the current classifier.  Should return a 2-dimensional\n",
    "        numpy array of ints, C, where C[ii,jj] is the number of times an \n",
    "        example with true label ii was labeled as jj.\n",
    "\n",
    "        :param test_x: test data \n",
    "        :param test_y: true test labels \n",
    "        \"\"\"\n",
    "        \n",
    "        C = np.zeros((10,10), dtype=int)\n",
    "        for xx, yy in zip(test_x, test_y):\n",
    "            predicted_label=self.classify(xx)\n",
    "            C[yy][predicted_label]=C[yy][predicted_label]+1\n",
    "        \n",
    "        return C \n",
    "            \n",
    "    @staticmethod\n",
    "    def accuracy(C):\n",
    "        \"\"\"\n",
    "        Given a confusion matrix C, compute the accuracy of the underlying classifier.\n",
    "        \n",
    "        :param C: a confusion matrix \n",
    "        \"\"\"\n",
    "        \n",
    "        return np.sum(C.diagonal()) / C.sum()\n",
    "        "
   ]
  },
  {
   "cell_type": "markdown",
   "metadata": {},
   "source": [
    "Here are the unit tests.  You don't need to modify them.  Simply execute the cell and observe the output. "
   ]
  },
  {
   "cell_type": "code",
   "execution_count": 6,
   "metadata": {
    "scrolled": true
   },
   "outputs": [
    {
     "name": "stderr",
     "output_type": "stream",
     "text": [
      "....\n",
      "----------------------------------------------------------------------\n",
      "Ran 4 tests in 0.344s\n",
      "\n",
      "OK\n"
     ]
    },
    {
     "data": {
      "text/plain": [
       "<unittest.runner.TextTestResult run=4 errors=0 failures=0>"
      ]
     },
     "execution_count": 6,
     "metadata": {},
     "output_type": "execute_result"
    }
   ],
   "source": [
    "import unittest\n",
    "\n",
    "class TestKnn(unittest.TestCase):\n",
    "    def setUp(self):\n",
    "        self.x = np.array([[2, 0], [4, 1], [6, 0], [1, 4], [2, 4], [2, 5], [4, 4], [0, 2], [3, 2], [4, 2], [5, 2], [5, 5]])\n",
    "        self.y = np.array([+1, +1, +1, +1, +1, +1, +1, -1, -1, -1, -1, -1])\n",
    "        self.knn = {}\n",
    "        for ii in [1, 2, 3]:\n",
    "            self.knn[ii] = Knearest(self.x, self.y, ii)\n",
    "\n",
    "        self.queries = np.array([[1, 5], [0, 3], [6, 4]])\n",
    "        \n",
    "    def test0(self):\n",
    "        \"\"\"\n",
    "        Test the label counter \n",
    "        \"\"\"\n",
    "        self.assertEqual(self.knn[1]._counts[-1], 5)\n",
    "        self.assertEqual(self.knn[1]._counts[1], 7)\n",
    "\n",
    "    def test1(self):\n",
    "        \"\"\"\n",
    "        Test 1NN\n",
    "        \"\"\"\n",
    "        self.assertEqual(self.knn[1].classify(self.queries[0]),  1)\n",
    "        self.assertEqual(self.knn[1].classify(self.queries[1]), -1)\n",
    "        self.assertEqual(self.knn[1].classify(self.queries[2]), -1)\n",
    "\n",
    "    def test2(self):\n",
    "        \"\"\"\n",
    "        Test 2NN\n",
    "        \"\"\"\n",
    "        self.assertEqual(self.knn[2].classify(self.queries[0]),  1)\n",
    "        self.assertEqual(self.knn[2].classify(self.queries[1]),  1)\n",
    "        self.assertEqual(self.knn[2].classify(self.queries[2]),  1)\n",
    "\n",
    "    def test3(self):\n",
    "        \"\"\"\n",
    "        Test 3NN\n",
    "        \"\"\"\n",
    "        self.assertEqual(self.knn[3].classify(self.queries[0]),  1)\n",
    "        self.assertEqual(self.knn[3].classify(self.queries[1]),  1)\n",
    "        self.assertEqual(self.knn[3].classify(self.queries[2]), -1)\n",
    "        \n",
    "tests = TestKnn()\n",
    "tests_to_run = unittest.TestLoader().loadTestsFromModule(tests)\n",
    "unittest.TextTestRunner().run(tests_to_run)"
   ]
  },
  {
   "cell_type": "markdown",
   "metadata": {},
   "source": [
    "### [15 points] Problem 3\n",
    "***\n",
    "\n",
    "In this problem you'll explore the performance of the classifier you've written.  A word of advice: don't use the entire training set, especially at first.  We'll be using this dataset again later on with techniques that scale better.    "
   ]
  },
  {
   "cell_type": "markdown",
   "metadata": {},
   "source": [
    "**Part A**: Explore the relationship between the number of training examples and accuracy on the test set. Comment on your findings and support your observations with some kind of graphic. "
   ]
  },
  {
   "cell_type": "code",
   "execution_count": 7,
   "metadata": {
    "collapsed": true
   },
   "outputs": [],
   "source": [
    "training_example={}\n",
    "\n",
    "#Knearest objects for various size of training examples\n",
    "for i in range(5000,15000,500):\n",
    "    training_example[i]=Knearest(data.train_x[0:i],data.train_y[0:i])\n"
   ]
  },
  {
   "cell_type": "code",
   "execution_count": 8,
   "metadata": {
    "collapsed": true
   },
   "outputs": [],
   "source": [
    "accuracy_training_example={}\n",
    "#Fining the accuracy\n",
    "for i in training_example.keys():\n",
    "    accuracy_training_example[i]=Knearest.accuracy(training_example[i].confusion_matrix(data.test_x[0:1000],data.test_y[0:1000]))\n"
   ]
  },
  {
   "cell_type": "code",
   "execution_count": 9,
   "metadata": {},
   "outputs": [
    {
     "data": {
      "image/png": "[encoded data removed]",
      "text/plain": [
       "<matplotlib.figure.Figure at 0x1f4c63dbbe0>"
      ]
     },
     "metadata": {},
     "output_type": "display_data"
    }
   ],
   "source": [
    "#Pre Processing to plot the graphs\n",
    "\n",
    "#Seperating training example and accuracy\n",
    "lists = sorted(accuracy_training_example.items()) \n",
    "training_size, accuracy = zip(*lists) # unpack a list of pairs into two tuples\n",
    "\n",
    "#Plot the graph\n",
    "plt.plot(training_size, accuracy,\"ro\")\n",
    "\n",
    "#Plot properties\n",
    "plt.xlabel('Training Size')\n",
    "plt.ylabel('Accuracy')\n",
    "plt.show()"
   ]
  },
  {
   "cell_type": "markdown",
   "metadata": {},
   "source": [
    "**Report Part A** \n",
    "\n",
    "The trend is very clear here. As we increase the number of training examples the **accuracy increases**. As the number of training examples are increasing we see that the **improvement slowly tapers off**. One more thing to consider while increasing the training size is that more the training size more time will the KNN classifier take to classify your test point as it will have to compare it with more number of points. As we know that a naive KNN will calculate the distance of the test point with every point in the training point. I am not sure about how KDTree handles it. It will be definitely more efficient than that but still basic intution and observation when running it for larger training set will atleast take some more time. So it is a tradeoff in the end. If you are satisfied with the accuracy then there may be no point to **increase the size of the training size as it will only slow down your classifier.**"
   ]
  },
  {
   "cell_type": "markdown",
   "metadata": {},
   "source": [
    "**Part B**: Explore the relationship between the number of nearest neighbors and accuracy on the test set. Comment on your findings and support your observations with some kind of graphic. "
   ]
  },
  {
   "cell_type": "code",
   "execution_count": 10,
   "metadata": {
    "collapsed": true
   },
   "outputs": [],
   "source": [
    "training_example={}\n",
    "\n",
    "#Knearest objects for various size of training examples\n",
    "for i in range(5000,26000,5000):\n",
    "    training_example[i]=Knearest(data.train_x[0:i],data.train_y[0:i])\n"
   ]
  },
  {
   "cell_type": "code",
   "execution_count": 11,
   "metadata": {
    "collapsed": true
   },
   "outputs": [],
   "source": [
    "#Running those objects with various sizes of k to test the accuracy\n",
    "accuracy_training_example={}\n",
    "for i in training_example.keys():\n",
    "    accuracy_training_example[i]={}\n",
    "    for j in range(1,11):\n",
    "        training_example[i]._k=j\n",
    "        #Fining the accuracy\n",
    "        x=Knearest.accuracy(training_example[i].confusion_matrix(data.test_x[0:1000],data.test_y[0:1000]))\n",
    "        accuracy_training_example[i][j]=x\n",
    "        \n",
    "        "
   ]
  },
  {
   "cell_type": "code",
   "execution_count": 12,
   "metadata": {},
   "outputs": [
    {
     "data": {
      "image/png": "[encoded data removed]",
      "text/plain": [
       "<matplotlib.figure.Figure at 0x1f4cf9243c8>"
      ]
     },
     "metadata": {},
     "output_type": "display_data"
    }
   ],
   "source": [
    "#Pre Processing to plot the graphs\n",
    "\n",
    "#Seperating for each training example\n",
    "lists = sorted(accuracy_training_example.items()) \n",
    "training_size, k_wise_accuracy = zip(*lists)\n",
    "\n",
    "#create 2d list of accuracy for each \n",
    "accuracy_list=[]\n",
    "for i in k_wise_accuracy:\n",
    "    k,accuracy_for_each_k=zip(*sorted(i.items()))\n",
    "    accuracy_list.append(list(accuracy_for_each_k))\n",
    "\n",
    "k=range(1, 11)\n",
    "\n",
    "#Plot each row(1 particulary training size)\n",
    "for j in accuracy_list:\n",
    "    plt.plot(k,j)\n",
    "plt.legend(range(5000,26000,5000))\n",
    "\n",
    "#Plot properties\n",
    "plt.xlabel('Value of K')\n",
    "plt.ylabel('Accuracy')\n",
    "plt.legend(loc='upper left')\n",
    "plt.show()"
   ]
  },
  {
   "cell_type": "code",
   "execution_count": 13,
   "metadata": {},
   "outputs": [
    {
     "data": {
      "image/png": "[encoded data removed]",
      "text/plain": [
       "<matplotlib.figure.Figure at 0x1f4cf9240b8>"
      ]
     },
     "metadata": {},
     "output_type": "display_data"
    }
   ],
   "source": [
    "k=range(1, 11,2)\n",
    "\n",
    "#Plot each row when only odd k(1 particulary training size)\n",
    "for j in accuracy_list:\n",
    "    plt.plot(k,j[0::2])\n",
    "plt.legend(range(5000,26000,5000))\n",
    "\n",
    "#Plot properties\n",
    "plt.xlabel('Value of K')\n",
    "plt.ylabel('Accuracy')\n",
    "plt.legend(loc='upper left')\n",
    "plt.show()"
   ]
  },
  {
   "cell_type": "markdown",
   "metadata": {},
   "source": [
    "**Report Part B**\n",
    "The trend is a bit more difficult to plot here. As we can see that there is a **constant dip for all training examples when k=2**. This is because as there will be a lot of conflicts when there are only 2 points. As our conflict resolution is naive and not sophisticated so as to get increase k or take a weighted k there are many misclassified points. Hence we can neglect the point for k=2 as a special case. We can also see that the **maximum accuracy for a various k depends on the size of the training examples**. When the training size is 5000 the maximum accuracy is at k=1. But for training size of 10000 and 15000 the accuracy is the most at k=3 and similary for k=5 when the training size is 20000 and 25000. This can be explained simply by the fact the more training point the more will be the density of that particular point near tthe test point. For a given radius when training size is 5000 and 25000 the density will be 5 times in 25000 than that in 5000. Hence higher the training size the bigger the k is better. Also we notice that **after a particular value the accuracy again decreases** as there will be more points in the neighbourhood with different labels hence decreasing the accuracy."
   ]
  },
  {
   "cell_type": "markdown",
   "metadata": {},
   "source": [
    "**Part C**: Which numbers get confused with each other the most easily?  Use the confusion_matrix function that you wrote above to support your conclusion.  Then use the `view_digit` function given below to plot a few examples of misclassified digits and discuss possible reasons for the misclassifications.  (Investigating misclassified examples is called **error analysis** and is an important step in the development of any classification technique).  "
   ]
  },
  {
   "cell_type": "code",
   "execution_count": 14,
   "metadata": {},
   "outputs": [
    {
     "name": "stdout",
     "output_type": "stream",
     "text": [
      "[[ 98   1   0   0   0   0   1   0   0   0]\n",
      " [  0 106   0   0   0   0   0   1   0   0]\n",
      " [  0   2  87   1   0   0   0   2   0   1]\n",
      " [  0   0   1  98   0   1   0   0   2   3]\n",
      " [  0   1   0   0  84   0   0   0   0   4]\n",
      " [  0   0   0   0   0  88   0   1   0   2]\n",
      " [  1   1   0   0   0   0 102   0   0   0]\n",
      " [  0   2   1   0   0   0   0 102   0   1]\n",
      " [  0   2   0   4   0   1   0   1  98   1]\n",
      " [  2   0   0   1   1   0   0   3   0  91]]\n"
     ]
    }
   ],
   "source": [
    "k=Knearest(data.train_x[0:20000],data.train_y[0:20000])\n",
    "\n",
    "#Basic confusion matrix (It was redundant for me but I did not want to lose any points for that)\n",
    "C1=k.confusion_matrix(data.test_x[0:1000],data.test_y[0:1000])\n",
    "print(C1)\n",
    "#Modified Confusion Matrix to store the index misclassified points\n",
    "C = []\n",
    "for i in range(0,10):\n",
    "    C.append([])\n",
    "    for j in range(0,10):\n",
    "        C[i].append([])\n",
    "for i in range(0,1000):\n",
    "    predicted_label=k.classify(data.test_x[i])\n",
    "    true_label=data.test_y[i]\n",
    "    if true_label!=predicted_label:\n",
    "        C[true_label][predicted_label].append(i)"
   ]
  },
  {
   "cell_type": "code",
   "execution_count": 15,
   "metadata": {},
   "outputs": [
    {
     "name": "stdout",
     "output_type": "stream",
     "text": [
      "[[4, 9, [134, 712, 819, 917]], [8, 3, [258, 274, 514, 714]], [3, 9, [212, 369, 431]], [9, 7, [329, 462, 522]], [2, 1, [368, 642]], [2, 7, [229, 756]], [3, 8, [403, 417]], [5, 9, [202, 734]], [7, 1, [359, 426]], [8, 1, [246, 429]], [9, 0, [78, 239]]]\n"
     ]
    }
   ],
   "source": [
    "#print(C)\n",
    "errors=[]\n",
    "for i in range(len(C)):\n",
    "    for j in range(len(C[i])):\n",
    "        if i!=j and len(C[i][j])>1:\n",
    "            #Stores [true_label,predicted_label,[index of misclassified points]]\n",
    "            errors.append([i,j,C[i][j]])\n",
    "    \n",
    "errors=sorted(errors, key=lambda x: len(x[2]), reverse=True)\n",
    "print(errors)"
   ]
  },
  {
   "cell_type": "code",
   "execution_count": 16,
   "metadata": {
    "collapsed": true
   },
   "outputs": [],
   "source": [
    "def view_digit(example, label=None):\n",
    "    if label: print(\"true label: {:d}\".format(label))\n",
    "    plt.imshow(example.reshape(28,28), cmap='gray');\n",
    "    \n"
   ]
  },
  {
   "cell_type": "code",
   "execution_count": 17,
   "metadata": {},
   "outputs": [
    {
     "name": "stdout",
     "output_type": "stream",
     "text": [
      "True label : 4\n",
      "Predicted label : 9\n"
     ]
    },
    {
     "data": {
      "image/png": "[encoded data removed]",
      "text/plain": [
       "<matplotlib.figure.Figure at 0x1f4cf93a7f0>"
      ]
     },
     "metadata": {},
     "output_type": "display_data"
    }
   ],
   "source": [
    "#plotting some of the common examples of misclassified points\n",
    "view_digit(data.test_x[errors[0][2][0]])\n",
    "print(\"True label : \"+str(errors[0][0]))\n",
    "print(\"Predicted label : \"+str(errors[0][1]))"
   ]
  },
  {
   "cell_type": "markdown",
   "metadata": {},
   "source": [
    "This may be misclassified because the shape is pretty close to that of 9 barring just the top joining pixels "
   ]
  },
  {
   "cell_type": "code",
   "execution_count": 18,
   "metadata": {},
   "outputs": [
    {
     "name": "stdout",
     "output_type": "stream",
     "text": [
      "True label : 8\n",
      "Predicted label : 3\n"
     ]
    },
    {
     "data": {
      "image/png": "[encoded data removed]",
      "text/plain": [
       "<matplotlib.figure.Figure at 0x1f49cfdfc50>"
      ]
     },
     "metadata": {},
     "output_type": "display_data"
    }
   ],
   "source": [
    "#plotting some of the common examples of misclassified points\n",
    "view_digit(data.test_x[errors[1][2][0]])\n",
    "print(\"True label : \"+str(errors[1][0]))\n",
    "print(\"Predicted label : \"+str(errors[1][1]))"
   ]
  },
  {
   "cell_type": "markdown",
   "metadata": {},
   "source": [
    "This point is weirdly misclassified and maybe a different k value might have given a better result"
   ]
  },
  {
   "cell_type": "code",
   "execution_count": 19,
   "metadata": {},
   "outputs": [
    {
     "name": "stdout",
     "output_type": "stream",
     "text": [
      "True label : 3\n",
      "Predicted label : 9\n"
     ]
    },
    {
     "data": {
      "image/png": "[encoded data removed]",
      "text/plain": [
       "<matplotlib.figure.Figure at 0x1f4a4b17748>"
      ]
     },
     "metadata": {},
     "output_type": "display_data"
    }
   ],
   "source": [
    "#plotting some of the common examples of misclassified points\n",
    "view_digit(data.test_x[errors[2][2][0]])\n",
    "print(\"True label : \"+str(errors[2][0]))\n",
    "print(\"Predicted label : \"+str(errors[2][1]))"
   ]
  },
  {
   "cell_type": "markdown",
   "metadata": {},
   "source": [
    "This just seems to be the case of bad handwriting. I would have been surprised if they had classified this correctly. The 3 is rotated and the top part of 9 is joined making just the top part similar to that of 9."
   ]
  },
  {
   "cell_type": "code",
   "execution_count": 20,
   "metadata": {},
   "outputs": [
    {
     "name": "stdout",
     "output_type": "stream",
     "text": [
      "True label : 9\n",
      "Predicted label : 7\n"
     ]
    },
    {
     "data": {
      "image/png": "[encoded data removed]",
      "text/plain": [
       "<matplotlib.figure.Figure at 0x1f4a4ba0470>"
      ]
     },
     "metadata": {},
     "output_type": "display_data"
    }
   ],
   "source": [
    "#plotting some of the common examples of misclassified points\n",
    "view_digit(data.test_x[errors[3][2][0]])\n",
    "print(\"True label : \"+str(errors[3][0]))\n",
    "print(\"Predicted label : \"+str(errors[3][1]))"
   ]
  },
  {
   "cell_type": "markdown",
   "metadata": {},
   "source": [
    "Here the pixels in the bottom part of the circle in 9 have faded and hence it appears as a 7. A better image/scanning quality would have led to better results"
   ]
  }
 ],
 "metadata": {
  "kernelspec": {
   "display_name": "Python 3",
   "language": "python",
   "name": "python3"
  },
  "language_info": {
   "codemirror_mode": {
    "name": "ipython",
    "version": 3
   },
   "file_extension": ".py",
   "mimetype": "text/x-python",
   "name": "python",
   "nbconvert_exporter": "python",
   "pygments_lexer": "ipython3",
   "version": "3.6.3"
  }
 },
 "nbformat": 4,
 "nbformat_minor": 2
}
